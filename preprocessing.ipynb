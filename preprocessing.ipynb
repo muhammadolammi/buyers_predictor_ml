{
 "cells": [
  {
   "cell_type": "markdown",
   "id": "80d7415f-783f-4c9d-bced-e65f09f64116",
   "metadata": {},
   "source": [
    "## Imports"
   ]
  },
  {
   "cell_type": "code",
   "execution_count": 48,
   "id": "1af8b79b-659f-4830-be7d-562f86e52cbf",
   "metadata": {},
   "outputs": [],
   "source": [
    "import numpy as np\n",
    "import matplotlib.pyplot as plt\n",
    "np.set_printoptions(threshold=np.inf)\n",
    "\n"
   ]
  },
  {
   "cell_type": "code",
   "execution_count": 50,
   "id": "fa4562bf-3493-4935-b29a-c8a75db0a284",
   "metadata": {},
   "outputs": [
    {
     "data": {
      "text/plain": [
       "(14084, 10)"
      ]
     },
     "execution_count": 50,
     "metadata": {},
     "output_type": "execute_result"
    }
   ],
   "source": [
    "raw_data = np.loadtxt(\"Audiobooks_data.csv\", delimiter=\",\")\n",
    "raw_inputs = raw_data[:,1:-1]\n",
    "raw_targets = raw_data[:,-1]\n",
    "raw_inputs.shape\n"
   ]
  },
  {
   "cell_type": "raw",
   "id": "9dd19e7e-c95a-4322-9ba1-a52764950657",
   "metadata": {},
   "source": [
    "Explaining each column\n",
    "Book length(mins)_overall = sum of length of all books purchased\n",
    "Book length(mins)_avg = sum of the length of all books purchased/ number of books purchased\n",
    "\n",
    "Price_overall = total price on book purchased\n",
    "Price_avg\t = Price_overall / number of books purchased\n",
    "Review = if a customer review or not\n",
    "Review 10/10 = reviews in range of 1-10 to show satisfactory, average is provided for user without reviews\n",
    "Completion = len of book in minutes / minutes read\n",
    "Support Requests = amount of support request\n",
    "Last visit - Purchased date = when user visited last since puchase date\n",
    "Targets= result of each user after 6 month , 0- not converted , 1 - converted"
   ]
  },
  {
   "cell_type": "markdown",
   "id": "106c5bdd-fad3-46b5-a5aa-4f8439b37017",
   "metadata": {},
   "source": [
    "## shuffle data to avoid effect (eg day effect)"
   ]
  },
  {
   "cell_type": "code",
   "execution_count": 53,
   "id": "65d72a51-adc5-4dc8-89cc-b60165cd0c17",
   "metadata": {},
   "outputs": [
    {
     "data": {
      "text/plain": [
       "(14084,)"
      ]
     },
     "execution_count": 53,
     "metadata": {},
     "output_type": "execute_result"
    }
   ],
   "source": [
    "suffled_index = np.arange(raw_inputs.shape[0])\n",
    "np.random.shuffle(suffled_index)\n",
    "raw_inputs = raw_inputs[suffled_index]\n",
    "raw_targets = raw_targets[suffled_index]\n",
    "raw_targets.shape"
   ]
  },
  {
   "cell_type": "markdown",
   "id": "b5632891-9fb1-4c6d-9e64-a5a101710fe9",
   "metadata": {},
   "source": [
    "## Balance the dataset"
   ]
  },
  {
   "cell_type": "code",
   "execution_count": 56,
   "id": "396490a6-5d15-4956-bdf6-78a42cd2d76b",
   "metadata": {},
   "outputs": [
    {
     "data": {
      "text/plain": [
       "(4474,)"
      ]
     },
     "execution_count": 56,
     "metadata": {},
     "output_type": "execute_result"
    }
   ],
   "source": [
    "\n",
    "num_one_targets = int(np.sum(raw_targets))\n",
    "zero_target_counter =0\n",
    "indices_to_remove =[]\n",
    "for i in range (raw_targets.shape[0]):\n",
    "    if raw_targets[i] ==0:\n",
    "        zero_target_counter +=1\n",
    "        if zero_target_counter > num_one_targets:\n",
    "            indices_to_remove.append(i)\n",
    "balanced_targets = np.delete(raw_targets, indices_to_remove, axis=0)\n",
    "balanced_inputs = np.delete(raw_inputs, indices_to_remove, axis=0)\n",
    "balanced_targets.shape"
   ]
  },
  {
   "cell_type": "markdown",
   "id": "d1639188-551b-4450-a016-0e4b823bb756",
   "metadata": {},
   "source": [
    "### scale the inputs"
   ]
  },
  {
   "cell_type": "code",
   "execution_count": 59,
   "id": "30165116-0c1a-45d1-b8e8-dcb18073bed0",
   "metadata": {},
   "outputs": [],
   "source": [
    "from sklearn import preprocessing\n",
    "scaled_inputs = preprocessing.scale(balanced_inputs)"
   ]
  },
  {
   "cell_type": "markdown",
   "id": "7e415587-4d15-4ca4-be9e-b350092f3a30",
   "metadata": {},
   "source": [
    "### reshuffle data before spliting"
   ]
  },
  {
   "cell_type": "code",
   "execution_count": 62,
   "id": "3467da7c-c450-4f7a-8e24-1df87e0eeee9",
   "metadata": {},
   "outputs": [],
   "source": [
    "shuffled_index = np.arange(scaled_inputs.shape[0])\n",
    "np.random.shuffle(shuffled_index)\n",
    "shuffled_inputs = scaled_inputs[shuffled_index]\n",
    "shuffled_targets = balanced_targets[shuffled_index]"
   ]
  },
  {
   "cell_type": "markdown",
   "id": "0384b526-cc6c-4da2-9a53-f9e0fffbca91",
   "metadata": {},
   "source": [
    "### Split the dataset into train, validation, and test"
   ]
  },
  {
   "cell_type": "code",
   "execution_count": 65,
   "id": "87efc7b0-10d3-4a73-8abf-a7d009ae07bb",
   "metadata": {},
   "outputs": [
    {
     "name": "stdout",
     "output_type": "stream",
     "text": [
      "1775.0 3579 0.49594858899133837\n",
      "232.0 447 0.5190156599552572\n",
      "230.0 447 0.5145413870246085\n"
     ]
    }
   ],
   "source": [
    "samples_size = shuffled_inputs.shape[0]\n",
    "\n",
    "train_size = int(0.8 * samples_size)\n",
    "validation_size = int(0.1 * samples_size)\n",
    "test_size =validation_size\n",
    "\n",
    "\n",
    "train_inputs = shuffled_inputs[:train_size]\n",
    "train_targets = shuffled_targets[:train_size]\n",
    "\n",
    "\n",
    "validation_inputs = shuffled_inputs[train_size:train_size+validation_size]\n",
    "validation_targets = shuffled_targets[train_size:train_size+validation_size]\n",
    "\n",
    "test_inputs = shuffled_inputs[train_size+validation_size:]\n",
    "test_targets = shuffled_targets[train_size+validation_size:]\n",
    "\n",
    "\n",
    "# Print the number of targets that are 1s, the total number of samples, and the proportion for training, validation, and test.\n",
    "print(np.sum(train_targets), train_size, np.sum(train_targets) / train_size)\n",
    "print(np.sum(validation_targets), validation_size, np.sum(validation_targets) / validation_size)\n",
    "print(np.sum(test_targets), test_size, np.sum(test_targets) / test_size)"
   ]
  },
  {
   "cell_type": "markdown",
   "id": "95389035-8f6f-47a7-a80a-93ece220a8a6",
   "metadata": {},
   "source": [
    "## save in npz"
   ]
  },
  {
   "cell_type": "code",
   "execution_count": 68,
   "id": "b401455c-5545-42e0-accc-baa5bcb87c53",
   "metadata": {},
   "outputs": [],
   "source": [
    "np.savez(\"Audiobook_data_train\", inputs=train_inputs, targets=train_targets)\n",
    "np.savez(\"Audiobook_data_validation\", inputs=validation_inputs, targets=validation_targets)\n",
    "np.savez(\"Audiobook_data_test\", inputs=test_inputs, targets=test_targets)"
   ]
  },
  {
   "cell_type": "code",
   "execution_count": null,
   "id": "59d47442-d9f0-40e1-8329-6bd4761623eb",
   "metadata": {},
   "outputs": [],
   "source": []
  }
 ],
 "metadata": {
  "kernelspec": {
   "display_name": "Python [conda env:base] *",
   "language": "python",
   "name": "conda-base-py"
  },
  "language_info": {
   "codemirror_mode": {
    "name": "ipython",
    "version": 3
   },
   "file_extension": ".py",
   "mimetype": "text/x-python",
   "name": "python",
   "nbconvert_exporter": "python",
   "pygments_lexer": "ipython3",
   "version": "3.12.7"
  }
 },
 "nbformat": 4,
 "nbformat_minor": 5
}
