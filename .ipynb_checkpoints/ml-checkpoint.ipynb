{
 "cells": [
  {
   "cell_type": "markdown",
   "id": "8cb91b2c-28da-4a9c-ac91-7ef67f25a686",
   "metadata": {},
   "source": [
    "## Import packages"
   ]
  },
  {
   "cell_type": "code",
   "execution_count": 96,
   "id": "06584d62-8bd7-4f81-8420-c03ab555341a",
   "metadata": {},
   "outputs": [],
   "source": [
    "import tensorflow as tf\n",
    "import numpy as np\n",
    "import matplotlib.pyplot as plt"
   ]
  },
  {
   "cell_type": "markdown",
   "id": "d29f6729-734b-4fb2-8a1a-343f21f99a24",
   "metadata": {},
   "source": [
    "## DATA"
   ]
  },
  {
   "cell_type": "raw",
   "id": "12412c9f-71a2-4cdf-9a45-fbb98ae99e3c",
   "metadata": {},
   "source": [
    "Load data"
   ]
  },
  {
   "cell_type": "code",
   "execution_count": 161,
   "id": "90582afc-155e-4918-a90b-ce9f7a033ff6",
   "metadata": {},
   "outputs": [],
   "source": [
    "training_data = np.load(\"Audiobook_data_train.npz\")\n",
    "validation_data =np.load(\"Audiobook_data_validation.npz\")\n",
    "testing_data =np.load(\"Audiobook_data_test.npz\")\n",
    "training_inputs =training_data[\"inputs\"].astype(float)\n",
    "training_targets =training_data[\"targets\"].astype(float)\n",
    "\n",
    "testing_inputs =testing_data[\"inputs\"].astype(float)\n",
    "testingg_targets =testing_data[\"targets\"].astype(float)\n",
    "\n",
    "validation_inputs =validation_data[\"inputs\"].astype(float)\n",
    "validation_targets =validation_data[\"targets\"].astype(float)\n"
   ]
  },
  {
   "cell_type": "markdown",
   "id": "b86c66d6-7a66-4536-b63b-8f3f43e76820",
   "metadata": {},
   "source": [
    "## Model"
   ]
  },
  {
   "cell_type": "code",
   "execution_count": 163,
   "id": "2a172ba9-a2ff-4723-b749-92e11e0934d7",
   "metadata": {},
   "outputs": [
    {
     "name": "stdout",
     "output_type": "stream",
     "text": [
      "Epoch 1/300\n",
      "36/36 - 5s - 140ms/step - accuracy: 0.7223 - loss: 0.5428 - val_accuracy: 0.7718 - val_loss: 0.4505\n",
      "Epoch 2/300\n",
      "36/36 - 0s - 12ms/step - accuracy: 0.7840 - loss: 0.4217 - val_accuracy: 0.7919 - val_loss: 0.3960\n",
      "Epoch 3/300\n",
      "36/36 - 0s - 10ms/step - accuracy: 0.7960 - loss: 0.3953 - val_accuracy: 0.8076 - val_loss: 0.3800\n",
      "Epoch 4/300\n",
      "36/36 - 0s - 12ms/step - accuracy: 0.7994 - loss: 0.3805 - val_accuracy: 0.7763 - val_loss: 0.3844\n",
      "Epoch 5/300\n",
      "36/36 - 1s - 14ms/step - accuracy: 0.7994 - loss: 0.3726 - val_accuracy: 0.8098 - val_loss: 0.3717\n",
      "Epoch 6/300\n",
      "36/36 - 1s - 15ms/step - accuracy: 0.8041 - loss: 0.3671 - val_accuracy: 0.8098 - val_loss: 0.3647\n",
      "Epoch 7/300\n",
      "36/36 - 0s - 12ms/step - accuracy: 0.8055 - loss: 0.3654 - val_accuracy: 0.8121 - val_loss: 0.3684\n",
      "Epoch 8/300\n",
      "36/36 - 0s - 9ms/step - accuracy: 0.8025 - loss: 0.3642 - val_accuracy: 0.8210 - val_loss: 0.3676\n"
     ]
    },
    {
     "data": {
      "text/plain": [
       "<keras.src.callbacks.history.History at 0x254d518b9d0>"
      ]
     },
     "execution_count": 163,
     "metadata": {},
     "output_type": "execute_result"
    }
   ],
   "source": [
    "#input size is the size of independent variables(xs)\n",
    "input_size = 10\n",
    "# output size of the model It should be equal to the number of outputs you've got (for regressions that's usually 1)\n",
    "output_size = 2\n",
    "\n",
    "hidden_layer_size = 100\n",
    "\n",
    "model = tf.keras.Sequential([ \n",
    "    tf.keras.layers.Dense(hidden_layer_size, activation='relu'),\n",
    "    tf.keras.layers.Dense(hidden_layer_size, activation='relu'),\n",
    "    tf.keras.layers.Dense(output_size, activation='softmax')\n",
    "    \n",
    "])\n",
    "\n",
    "model.compile(\"adam\", loss='sparse_categorical_crossentropy', metrics=[\"accuracy\"])\n",
    "MAX_EPOCHS=300\n",
    "BATCH_SIZE=100\n",
    "early_stopping = tf.keras.callbacks.EarlyStopping( patience=2)\n",
    "model.fit(training_inputs,\n",
    "          training_targets,\n",
    "          epochs=MAX_EPOCHS,\n",
    "          batch_size=BATCH_SIZE, \n",
    "          validation_data=(validation_inputs, validation_targets),\n",
    "          verbose=2,\n",
    "         callbacks=[early_stopping])\n"
   ]
  },
  {
   "cell_type": "markdown",
   "id": "4b907faa-3511-4502-bd2d-d9686ee6ae86",
   "metadata": {},
   "source": [
    "## Testing"
   ]
  },
  {
   "cell_type": "code",
   "execution_count": 165,
   "id": "53a75bd3-97ff-41f0-a3af-50d94bc74492",
   "metadata": {},
   "outputs": [
    {
     "name": "stdout",
     "output_type": "stream",
     "text": [
      "\u001b[1m112/112\u001b[0m \u001b[32m━━━━━━━━━━━━━━━━━━━━\u001b[0m\u001b[37m\u001b[0m \u001b[1m1s\u001b[0m 6ms/step - accuracy: 0.8006 - loss: 0.3611\n"
     ]
    }
   ],
   "source": [
    "test_loss, test_accuracy = model.evaluate(training_inputs, training_targets)"
   ]
  }
 ],
 "metadata": {
  "kernelspec": {
   "display_name": "Python (tf2)",
   "language": "python",
   "name": "tf2"
  },
  "language_info": {
   "codemirror_mode": {
    "name": "ipython",
    "version": 3
   },
   "file_extension": ".py",
   "mimetype": "text/x-python",
   "name": "python",
   "nbconvert_exporter": "python",
   "pygments_lexer": "ipython3",
   "version": "3.10.13"
  }
 },
 "nbformat": 4,
 "nbformat_minor": 5
}
